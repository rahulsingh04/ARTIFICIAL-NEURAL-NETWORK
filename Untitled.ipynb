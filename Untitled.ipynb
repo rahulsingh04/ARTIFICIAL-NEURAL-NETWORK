{
 "cells": [
  {
   "cell_type": "code",
   "execution_count": 3,
   "id": "641f7d74",
   "metadata": {},
   "outputs": [],
   "source": [
    "import numpy as np\n",
    "import seaborn as sns\n",
    "import matplotlib.pyplot as plt\n",
    "import tensorflow as tf"
   ]
  },
  {
   "cell_type": "code",
   "execution_count": 4,
   "id": "2e23ad12",
   "metadata": {},
   "outputs": [],
   "source": [
    "# # WORKING ON MNIST DATA-SET\n",
    "# THIS DATASET CONTAINS HANDWRITTEN DIGIT \n",
    "# IT HAS 10 CLASS FROM 0-9\n",
    "# EACH DATA POINT IS 2D ARRAY  OF 28*28 size\n",
    "# also known as hello world dataset of ANN"
   ]
  },
  {
   "cell_type": "code",
   "execution_count": null,
   "id": "335eb47a",
   "metadata": {},
   "outputs": [],
   "source": []
  }
 ],
 "metadata": {
  "kernelspec": {
   "display_name": "Python 3 (ipykernel)",
   "language": "python",
   "name": "python3"
  },
  "language_info": {
   "codemirror_mode": {
    "name": "ipython",
    "version": 3
   },
   "file_extension": ".py",
   "mimetype": "text/x-python",
   "name": "python",
   "nbconvert_exporter": "python",
   "pygments_lexer": "ipython3",
   "version": "3.9.12"
  }
 },
 "nbformat": 4,
 "nbformat_minor": 5
}
